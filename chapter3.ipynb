{
 "cells": [
  {
   "cell_type": "code",
   "execution_count": 21,
   "id": "f19008a4-cafa-48d8-baa2-5448e04cfb14",
   "metadata": {},
   "outputs": [],
   "source": [
    "import numpy as np\n",
    "import seaborn as sns\n",
    "import datetime as dt\n",
    "import pandas as pd\n",
    "from pandas.plotting import scatter_matrix\n",
    "import pandas_datareader.data as web\n",
    "import matplotlib.pyplot as plt\n",
    "\n",
    "from sklearn.linear_model import LinearRegression\n",
    "from sklearn.metrics import mean_squared_error, r2_score\n",
    "from sklearn.preprocessing import PolynomialFeatures\n",
    "\n",
    "from sklearn.model_selection import train_test_split\n",
    "\n",
    "# Save Model using Pickle\n",
    "from pickle import dump\n",
    "from pickle import load\n",
    "\n",
    "import yfinance as yfin"
   ]
  },
  {
   "cell_type": "code",
   "execution_count": 22,
   "id": "26e5af6c",
   "metadata": {},
   "outputs": [
    {
     "data": {
      "text/plain": [
       "<matplotlib.collections.PathCollection at 0x12dd01940>"
      ]
     },
     "execution_count": 22,
     "metadata": {},
     "output_type": "execute_result"
    },
    {
     "data": {
      "image/png": "[encoded data removed]",
      "text/plain": [
       "<Figure size 640x480 with 1 Axes>"
      ]
     },
     "metadata": {},
     "output_type": "display_data"
    }
   ],
   "source": [
    "def create_dataset(n):\n",
    "  x = np.linspace(0, 10, n)\n",
    "  y = np.sin(x) + np.random.randn(n) * 0.2\n",
    "  return x, y\n",
    "\n",
    "X, Y = create_dataset(100)\n",
    "plt.scatter(X, Y)"
   ]
  },
  {
   "cell_type": "code",
   "execution_count": 23,
   "id": "facc94d6",
   "metadata": {},
   "outputs": [
    {
     "name": "stdout",
     "output_type": "stream",
     "text": [
      "[*********************100%%**********************]  5 of 5 completed\n"
     ]
    }
   ],
   "source": [
    "yfin.pdr_override()\n",
    "\n",
    "start = dt.datetime(2018, 1, 1)\n",
    "end = dt.datetime(2022, 3, 28)\n",
    "\n",
    "stk_tickers = ['AAPL', 'MSFT', 'AMZN', 'TSLA', 'GOOG']\n",
    "ccy_tickers = ['DEXJPUS', 'DEXUSUK']\n",
    "idx_tickers = ['SP500', 'DJIA', 'VIXCLS']\n",
    "stk_data = web.get_data_yahoo(stk_tickers, start, end)\n",
    "ccy_data = web.get_data_fred(ccy_tickers, start, end)\n",
    "idx_data = web.get_data_fred(idx_tickers, start, end)\n",
    "# stk_data = web.DataReader(stk_tickers, 'yahoo', start, end)\n",
    "# ccy_data = web.DataReader(ccy_tickers, 'fred', start, end)\n",
    "# idx_data = web.DataReader(idx_tickers, 'fred', start, end)"
   ]
  },
  {
   "cell_type": "code",
   "execution_count": 24,
   "id": "a13cfbfe",
   "metadata": {},
   "outputs": [
    {
     "data": {
      "text/html": [
       "<div>\n",
       "<style scoped>\n",
       "    .dataframe tbody tr th:only-of-type {\n",
       "        vertical-align: middle;\n",
       "    }\n",
       "\n",
       "    .dataframe tbody tr th {\n",
       "        vertical-align: top;\n",
       "    }\n",
       "\n",
       "    .dataframe thead th {\n",
       "        text-align: right;\n",
       "    }\n",
       "</style>\n",
       "<table border=\"1\" class=\"dataframe\">\n",
       "  <thead>\n",
       "    <tr style=\"text-align: right;\">\n",
       "      <th></th>\n",
       "      <th>AAPL</th>\n",
       "      <th>AMZN</th>\n",
       "      <th>GOOG</th>\n",
       "      <th>MSFT</th>\n",
       "      <th>TSLA</th>\n",
       "      <th>DEXJPUS</th>\n",
       "      <th>DEXUSUK</th>\n",
       "      <th>SP500</th>\n",
       "      <th>DJIA</th>\n",
       "      <th>VIXCLS</th>\n",
       "    </tr>\n",
       "  </thead>\n",
       "  <tbody>\n",
       "    <tr>\n",
       "      <th>2018-01-02</th>\n",
       "      <td>40.776520</td>\n",
       "      <td>59.450500</td>\n",
       "      <td>53.250000</td>\n",
       "      <td>80.391838</td>\n",
       "      <td>21.368668</td>\n",
       "      <td>112.18</td>\n",
       "      <td>1.3596</td>\n",
       "      <td>2695.81</td>\n",
       "      <td>24824.01</td>\n",
       "      <td>9.77</td>\n",
       "    </tr>\n",
       "    <tr>\n",
       "      <th>2018-01-03</th>\n",
       "      <td>40.769424</td>\n",
       "      <td>60.209999</td>\n",
       "      <td>54.124001</td>\n",
       "      <td>80.765984</td>\n",
       "      <td>21.150000</td>\n",
       "      <td>112.28</td>\n",
       "      <td>1.3522</td>\n",
       "      <td>2713.06</td>\n",
       "      <td>24922.68</td>\n",
       "      <td>9.15</td>\n",
       "    </tr>\n",
       "    <tr>\n",
       "      <th>2018-01-04</th>\n",
       "      <td>40.958801</td>\n",
       "      <td>60.479500</td>\n",
       "      <td>54.320000</td>\n",
       "      <td>81.476830</td>\n",
       "      <td>20.974667</td>\n",
       "      <td>112.78</td>\n",
       "      <td>1.3539</td>\n",
       "      <td>2723.99</td>\n",
       "      <td>25075.13</td>\n",
       "      <td>9.22</td>\n",
       "    </tr>\n",
       "    <tr>\n",
       "      <th>2018-01-05</th>\n",
       "      <td>41.425133</td>\n",
       "      <td>61.457001</td>\n",
       "      <td>55.111500</td>\n",
       "      <td>82.487022</td>\n",
       "      <td>21.105333</td>\n",
       "      <td>113.18</td>\n",
       "      <td>1.3562</td>\n",
       "      <td>2743.15</td>\n",
       "      <td>25295.87</td>\n",
       "      <td>9.22</td>\n",
       "    </tr>\n",
       "    <tr>\n",
       "      <th>2018-01-08</th>\n",
       "      <td>41.271255</td>\n",
       "      <td>62.343498</td>\n",
       "      <td>55.347000</td>\n",
       "      <td>82.571175</td>\n",
       "      <td>22.427334</td>\n",
       "      <td>113.08</td>\n",
       "      <td>1.3566</td>\n",
       "      <td>2747.71</td>\n",
       "      <td>25283.00</td>\n",
       "      <td>9.52</td>\n",
       "    </tr>\n",
       "  </tbody>\n",
       "</table>\n",
       "</div>"
      ],
      "text/plain": [
       "                 AAPL       AMZN       GOOG       MSFT       TSLA  DEXJPUS  \\\n",
       "2018-01-02  40.776520  59.450500  53.250000  80.391838  21.368668   112.18   \n",
       "2018-01-03  40.769424  60.209999  54.124001  80.765984  21.150000   112.28   \n",
       "2018-01-04  40.958801  60.479500  54.320000  81.476830  20.974667   112.78   \n",
       "2018-01-05  41.425133  61.457001  55.111500  82.487022  21.105333   113.18   \n",
       "2018-01-08  41.271255  62.343498  55.347000  82.571175  22.427334   113.08   \n",
       "\n",
       "            DEXUSUK    SP500      DJIA  VIXCLS  \n",
       "2018-01-02   1.3596  2695.81  24824.01    9.77  \n",
       "2018-01-03   1.3522  2713.06  24922.68    9.15  \n",
       "2018-01-04   1.3539  2723.99  25075.13    9.22  \n",
       "2018-01-05   1.3562  2743.15  25295.87    9.22  \n",
       "2018-01-08   1.3566  2747.71  25283.00    9.52  "
      ]
     },
     "execution_count": 24,
     "metadata": {},
     "output_type": "execute_result"
    }
   ],
   "source": [
    "X_merged = stk_data['Adj Close'].merge(ccy_data, how='inner', left_index=True, right_index=True)\n",
    "X_data = X_merged.merge(idx_data, how='inner', left_index=True, right_index=True)\n",
    "X_data.head()"
   ]
  }
 ],
 "metadata": {
  "kernelspec": {
   "display_name": "quantpy-beokB3Qz",
   "language": "python",
   "name": "python3"
  },
  "language_info": {
   "codemirror_mode": {
    "name": "ipython",
    "version": 3
   },
   "file_extension": ".py",
   "mimetype": "text/x-python",
   "name": "python",
   "nbconvert_exporter": "python",
   "pygments_lexer": "ipython3",
   "version": "3.9.6"
  }
 },
 "nbformat": 4,
 "nbformat_minor": 5
}
